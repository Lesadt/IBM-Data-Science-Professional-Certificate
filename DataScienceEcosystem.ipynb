{
 "cells": [
  {
   "cell_type": "markdown",
   "id": "35d441dd-e957-4a91-a439-b8cabf4ad1ce",
   "metadata": {},
   "source": [
    "### Exercise 2: Create markdown cell with title of the notebook"
   ]
  },
  {
   "cell_type": "markdown",
   "id": "fa01080e-58ce-47bc-b464-addb3e1a0264",
   "metadata": {},
   "source": [
    "# Data Science Tools and Ecosystem"
   ]
  },
  {
   "cell_type": "markdown",
   "id": "d0c64a3b-98af-43cb-ad6d-7bee733fdc5f",
   "metadata": {},
   "source": [
    "### Exercise 3 - Create a markdown cell for an introduction"
   ]
  },
  {
   "cell_type": "markdown",
   "id": "e987d87b-b217-44df-b361-6e70011d7dae",
   "metadata": {},
   "source": [
    "## In this notebook, Data Science Tools and Ecosystem are summarized."
   ]
  },
  {
   "cell_type": "markdown",
   "id": "3dd29138-b4d6-48b7-a77a-e7785cc521bf",
   "metadata": {},
   "source": [
    "### Exercise 4 - Create a markdown cell to list data science languages"
   ]
  },
  {
   "cell_type": "markdown",
   "id": "2bdee628-fe2b-489e-be5b-1df92aec45d7",
   "metadata": {},
   "source": [
    "Some of the popular languages that Data Scientists use are:\n",
    "1. Python\n",
    "2. R\n",
    "3. SQL\n",
    "4. Julia\n",
    "5. JavaScript"
   ]
  },
  {
   "cell_type": "markdown",
   "id": "fe84ce57-4070-4a7c-9e57-034ab5ba145e",
   "metadata": {},
   "source": [
    "### Exercise 5 - Create a markdown cell to list data science libraries"
   ]
  },
  {
   "cell_type": "markdown",
   "id": "59ef4fff-07e6-4d55-b4a8-63bcd317372f",
   "metadata": {},
   "source": [
    "Some of the commonly used libraries used by Data Scientists include:\n",
    "1. Matplotlib\n",
    "2. Scikit-learn\n",
    "3. Numpy\n",
    "4. Pandas\n",
    "5. Dplyr"
   ]
  },
  {
   "cell_type": "markdown",
   "id": "3aab0653-4ccc-457b-ba91-8bdbd6dd5077",
   "metadata": {},
   "source": [
    "### Exercise 6 - Create a markdown cell with a table of Data Science tools"
   ]
  },
  {
   "cell_type": "markdown",
   "id": "050be658-fc68-4c4e-b018-54d284cd1702",
   "metadata": {},
   "source": [
    "|Data Science Tools|\n",
    "|------------------|\n",
    "|R-Studios|\n",
    "|Jupyter Notebook|\n",
    "|Visual Studio|"
   ]
  },
  {
   "cell_type": "markdown",
   "id": "813be15f-9c06-4bfc-a695-a6401a72f257",
   "metadata": {},
   "source": [
    "### Exercise 7 - Create a markdown cell introducing arithmetic expression examples"
   ]
  },
  {
   "cell_type": "markdown",
   "id": "494e6da6-0267-4ffa-8bd0-e9d830065a13",
   "metadata": {},
   "source": [
    "### Below are a few examples of evaluating arithmetic expressions in Python"
   ]
  },
  {
   "cell_type": "markdown",
   "id": "8f94f320-a980-4e74-8c7f-4b7bb5bda6b5",
   "metadata": {},
   "source": [
    "### Exercise 8 - Create a code cell to multiply and add numbers"
   ]
  },
  {
   "cell_type": "code",
   "execution_count": 3,
   "id": "4826b54f-5709-4638-b5dc-3a8288dddb9d",
   "metadata": {},
   "outputs": [
    {
     "data": {
      "text/plain": [
       "17"
      ]
     },
     "execution_count": 3,
     "metadata": {},
     "output_type": "execute_result"
    }
   ],
   "source": [
    "# This a simple arithmetic expression to mutiply then add integers\n",
    "(3*4)+5"
   ]
  },
  {
   "cell_type": "markdown",
   "id": "7c17fef5-12be-48db-acda-decc1b9644c3",
   "metadata": {},
   "source": [
    "### Exercise 9 - Create a code cell to convert minutes to hours"
   ]
  },
  {
   "cell_type": "code",
   "execution_count": 6,
   "id": "e28c6f72-9c00-4ba0-a0f3-82c3b3bd1585",
   "metadata": {},
   "outputs": [
    {
     "name": "stdout",
     "output_type": "stream",
     "text": [
      "200min = 3.3333333333333335hours\n"
     ]
    }
   ],
   "source": [
    "# This will convert 200 minutes to hours by diving by 60\n",
    "print('200 minutes = ' + str(200/60) + 'hours')\n"
   ]
  },
  {
   "cell_type": "markdown",
   "id": "f2f238d0-5466-405a-8a39-b9815c8a1f8c",
   "metadata": {},
   "source": [
    "### Exercise 10 - Insert a markdown cell to list Objectives"
   ]
  },
  {
   "cell_type": "markdown",
   "id": "620546bf-c282-43b9-a571-99a11e0ee61b",
   "metadata": {},
   "source": [
    "**Objectives\n",
    "- Use of Pyhton in a Code Cell\n",
    "- List of important libraries for Data Science\n",
    "- List of IDE used in Data Science\n",
    "- Use of tables in a Jupyter notebook "
   ]
  },
  {
   "cell_type": "markdown",
   "id": "26da8f36-0cf3-4cb4-a48e-5930dcabf356",
   "metadata": {},
   "source": [
    "### Exercise 11 - Create a markdown cell to indicate the Author's name"
   ]
  },
  {
   "cell_type": "markdown",
   "id": "f55cd87d-bfc9-4b67-9317-f0bd3aa71f45",
   "metadata": {},
   "source": [
    "## Author\n",
    "Enrique Suárez-Argudín\n"
   ]
  }
 ],
 "metadata": {
  "kernelspec": {
   "display_name": "Python 3 (ipykernel)",
   "language": "python",
   "name": "python3"
  },
  "language_info": {
   "codemirror_mode": {
    "name": "ipython",
    "version": 3
   },
   "file_extension": ".py",
   "mimetype": "text/x-python",
   "name": "python",
   "nbconvert_exporter": "python",
   "pygments_lexer": "ipython3",
   "version": "3.11.7"
  }
 },
 "nbformat": 4,
 "nbformat_minor": 5
}
